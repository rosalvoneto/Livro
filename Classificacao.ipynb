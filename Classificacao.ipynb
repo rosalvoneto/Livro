{
 "cells": [
  {
   "cell_type": "markdown",
   "metadata": {},
   "source": [
    "# <center> Modelagem: DMC 2013 </center>\n",
    "Este notebook contém o código referente à etapa de **mineração de dados e avaliação**<br>\n",
    "Este código é parte do livro: **Ciência dos Dados pelo Processo de KDD**<br>\n",
    "Autor: Rosalvo Neto<br>\n",
    "Link do Livro:"
   ]
  },
  {
   "cell_type": "markdown",
   "metadata": {},
   "source": [
    "## Importando as bibliotecas"
   ]
  },
  {
   "cell_type": "code",
   "execution_count": 1,
   "metadata": {},
   "outputs": [],
   "source": [
    "import numpy as np\n",
    "import pandas as pd\n",
    "\n",
    "from sklearn.neighbors import KNeighborsClassifier\n",
    "\n",
    "from sklearn.metrics import confusion_matrix\n",
    "from sklearn.metrics import accuracy_score\n",
    "from sklearn.metrics import roc_auc_score\n",
    "from sklearn.metrics import precision_score\n",
    "import sklearn.metrics as metrics\n",
    "\n",
    "import matplotlib.pyplot as plt\n"
   ]
  },
  {
   "cell_type": "markdown",
   "metadata": {},
   "source": [
    "## Carregando os dados de treinamento e teste"
   ]
  },
  {
   "cell_type": "markdown",
   "metadata": {},
   "source": [
    "### Treinamento"
   ]
  },
  {
   "cell_type": "code",
   "execution_count": 2,
   "metadata": {},
   "outputs": [
    {
     "data": {
      "text/html": [
       "<div>\n",
       "<style scoped>\n",
       "    .dataframe tbody tr th:only-of-type {\n",
       "        vertical-align: middle;\n",
       "    }\n",
       "\n",
       "    .dataframe tbody tr th {\n",
       "        vertical-align: top;\n",
       "    }\n",
       "\n",
       "    .dataframe thead th {\n",
       "        text-align: right;\n",
       "    }\n",
       "</style>\n",
       "<table border=\"1\" class=\"dataframe\">\n",
       "  <thead>\n",
       "    <tr style=\"text-align: right;\">\n",
       "      <th></th>\n",
       "      <th>startHour</th>\n",
       "      <th>startWeekday</th>\n",
       "      <th>duration</th>\n",
       "      <th>cCount</th>\n",
       "      <th>cMinPrice</th>\n",
       "      <th>cMaxPrice</th>\n",
       "      <th>cSumPrice</th>\n",
       "      <th>bCount</th>\n",
       "      <th>bMinPrice</th>\n",
       "      <th>bMaxPrice</th>\n",
       "      <th>...</th>\n",
       "      <th>onlineStatus_ausente</th>\n",
       "      <th>onlineStatus_n</th>\n",
       "      <th>onlineStatus_y</th>\n",
       "      <th>availability_ausente</th>\n",
       "      <th>availability_completely not determinable</th>\n",
       "      <th>availability_completely not orderable</th>\n",
       "      <th>availability_completely orderable</th>\n",
       "      <th>availability_mainly not orderable</th>\n",
       "      <th>availability_mainly orderable</th>\n",
       "      <th>availability_mixed</th>\n",
       "    </tr>\n",
       "  </thead>\n",
       "  <tbody>\n",
       "    <tr>\n",
       "      <th>0</th>\n",
       "      <td>0.26087</td>\n",
       "      <td>0.0</td>\n",
       "      <td>0.001848</td>\n",
       "      <td>0.005</td>\n",
       "      <td>0.009998</td>\n",
       "      <td>0.008570</td>\n",
       "      <td>0.000518</td>\n",
       "      <td>0.009259</td>\n",
       "      <td>0.008570</td>\n",
       "      <td>0.008570</td>\n",
       "      <td>...</td>\n",
       "      <td>0.0</td>\n",
       "      <td>0.0</td>\n",
       "      <td>1.0</td>\n",
       "      <td>0.0</td>\n",
       "      <td>0.0</td>\n",
       "      <td>0.0</td>\n",
       "      <td>1.0</td>\n",
       "      <td>0.0</td>\n",
       "      <td>0.0</td>\n",
       "      <td>0.0</td>\n",
       "    </tr>\n",
       "    <tr>\n",
       "      <th>1</th>\n",
       "      <td>0.26087</td>\n",
       "      <td>0.0</td>\n",
       "      <td>0.004378</td>\n",
       "      <td>0.000</td>\n",
       "      <td>0.012020</td>\n",
       "      <td>0.022521</td>\n",
       "      <td>0.009475</td>\n",
       "      <td>0.000000</td>\n",
       "      <td>0.012349</td>\n",
       "      <td>0.016941</td>\n",
       "      <td>...</td>\n",
       "      <td>0.0</td>\n",
       "      <td>0.0</td>\n",
       "      <td>1.0</td>\n",
       "      <td>0.0</td>\n",
       "      <td>0.0</td>\n",
       "      <td>0.0</td>\n",
       "      <td>1.0</td>\n",
       "      <td>0.0</td>\n",
       "      <td>0.0</td>\n",
       "      <td>0.0</td>\n",
       "    </tr>\n",
       "    <tr>\n",
       "      <th>2</th>\n",
       "      <td>0.26087</td>\n",
       "      <td>0.0</td>\n",
       "      <td>0.015830</td>\n",
       "      <td>0.055</td>\n",
       "      <td>0.001665</td>\n",
       "      <td>0.004284</td>\n",
       "      <td>0.000950</td>\n",
       "      <td>0.018519</td>\n",
       "      <td>0.001427</td>\n",
       "      <td>0.004284</td>\n",
       "      <td>...</td>\n",
       "      <td>0.0</td>\n",
       "      <td>0.0</td>\n",
       "      <td>1.0</td>\n",
       "      <td>0.0</td>\n",
       "      <td>0.0</td>\n",
       "      <td>0.0</td>\n",
       "      <td>1.0</td>\n",
       "      <td>0.0</td>\n",
       "      <td>0.0</td>\n",
       "      <td>0.0</td>\n",
       "    </tr>\n",
       "    <tr>\n",
       "      <th>3</th>\n",
       "      <td>0.26087</td>\n",
       "      <td>0.0</td>\n",
       "      <td>0.001984</td>\n",
       "      <td>0.020</td>\n",
       "      <td>0.000832</td>\n",
       "      <td>0.000713</td>\n",
       "      <td>0.000172</td>\n",
       "      <td>0.009259</td>\n",
       "      <td>0.000713</td>\n",
       "      <td>0.000713</td>\n",
       "      <td>...</td>\n",
       "      <td>0.0</td>\n",
       "      <td>0.0</td>\n",
       "      <td>1.0</td>\n",
       "      <td>0.0</td>\n",
       "      <td>0.0</td>\n",
       "      <td>1.0</td>\n",
       "      <td>0.0</td>\n",
       "      <td>0.0</td>\n",
       "      <td>0.0</td>\n",
       "      <td>0.0</td>\n",
       "    </tr>\n",
       "    <tr>\n",
       "      <th>4</th>\n",
       "      <td>0.26087</td>\n",
       "      <td>0.0</td>\n",
       "      <td>0.130493</td>\n",
       "      <td>0.225</td>\n",
       "      <td>0.002165</td>\n",
       "      <td>0.025707</td>\n",
       "      <td>0.009450</td>\n",
       "      <td>0.037037</td>\n",
       "      <td>0.002856</td>\n",
       "      <td>0.003979</td>\n",
       "      <td>...</td>\n",
       "      <td>0.0</td>\n",
       "      <td>0.0</td>\n",
       "      <td>1.0</td>\n",
       "      <td>0.0</td>\n",
       "      <td>0.0</td>\n",
       "      <td>0.0</td>\n",
       "      <td>1.0</td>\n",
       "      <td>0.0</td>\n",
       "      <td>0.0</td>\n",
       "      <td>0.0</td>\n",
       "    </tr>\n",
       "  </tbody>\n",
       "</table>\n",
       "<p>5 rows × 32 columns</p>\n",
       "</div>"
      ],
      "text/plain": [
       "   startHour  startWeekday  duration  cCount  cMinPrice  cMaxPrice  cSumPrice  \\\n",
       "0    0.26087           0.0  0.001848   0.005   0.009998   0.008570   0.000518   \n",
       "1    0.26087           0.0  0.004378   0.000   0.012020   0.022521   0.009475   \n",
       "2    0.26087           0.0  0.015830   0.055   0.001665   0.004284   0.000950   \n",
       "3    0.26087           0.0  0.001984   0.020   0.000832   0.000713   0.000172   \n",
       "4    0.26087           0.0  0.130493   0.225   0.002165   0.025707   0.009450   \n",
       "\n",
       "     bCount  bMinPrice  bMaxPrice  ...  onlineStatus_ausente  onlineStatus_n  \\\n",
       "0  0.009259   0.008570   0.008570  ...                   0.0             0.0   \n",
       "1  0.000000   0.012349   0.016941  ...                   0.0             0.0   \n",
       "2  0.018519   0.001427   0.004284  ...                   0.0             0.0   \n",
       "3  0.009259   0.000713   0.000713  ...                   0.0             0.0   \n",
       "4  0.037037   0.002856   0.003979  ...                   0.0             0.0   \n",
       "\n",
       "   onlineStatus_y  availability_ausente  \\\n",
       "0             1.0                   0.0   \n",
       "1             1.0                   0.0   \n",
       "2             1.0                   0.0   \n",
       "3             1.0                   0.0   \n",
       "4             1.0                   0.0   \n",
       "\n",
       "   availability_completely not determinable  \\\n",
       "0                                       0.0   \n",
       "1                                       0.0   \n",
       "2                                       0.0   \n",
       "3                                       0.0   \n",
       "4                                       0.0   \n",
       "\n",
       "   availability_completely not orderable  availability_completely orderable  \\\n",
       "0                                    0.0                                1.0   \n",
       "1                                    0.0                                1.0   \n",
       "2                                    0.0                                1.0   \n",
       "3                                    1.0                                0.0   \n",
       "4                                    0.0                                1.0   \n",
       "\n",
       "   availability_mainly not orderable  availability_mainly orderable  \\\n",
       "0                                0.0                            0.0   \n",
       "1                                0.0                            0.0   \n",
       "2                                0.0                            0.0   \n",
       "3                                0.0                            0.0   \n",
       "4                                0.0                            0.0   \n",
       "\n",
       "   availability_mixed  \n",
       "0                 0.0  \n",
       "1                 0.0  \n",
       "2                 0.0  \n",
       "3                 0.0  \n",
       "4                 0.0  \n",
       "\n",
       "[5 rows x 32 columns]"
      ]
     },
     "execution_count": 2,
     "metadata": {},
     "output_type": "execute_result"
    }
   ],
   "source": [
    "TRN_X = pd.read_csv('TRN_X.csv')\n",
    "TRN_X.head()"
   ]
  },
  {
   "cell_type": "code",
   "execution_count": 3,
   "metadata": {},
   "outputs": [
    {
     "data": {
      "text/html": [
       "<div>\n",
       "<style scoped>\n",
       "    .dataframe tbody tr th:only-of-type {\n",
       "        vertical-align: middle;\n",
       "    }\n",
       "\n",
       "    .dataframe tbody tr th {\n",
       "        vertical-align: top;\n",
       "    }\n",
       "\n",
       "    .dataframe thead th {\n",
       "        text-align: right;\n",
       "    }\n",
       "</style>\n",
       "<table border=\"1\" class=\"dataframe\">\n",
       "  <thead>\n",
       "    <tr style=\"text-align: right;\">\n",
       "      <th></th>\n",
       "      <th>order</th>\n",
       "    </tr>\n",
       "  </thead>\n",
       "  <tbody>\n",
       "    <tr>\n",
       "      <th>0</th>\n",
       "      <td>1</td>\n",
       "    </tr>\n",
       "    <tr>\n",
       "      <th>1</th>\n",
       "      <td>1</td>\n",
       "    </tr>\n",
       "    <tr>\n",
       "      <th>2</th>\n",
       "      <td>1</td>\n",
       "    </tr>\n",
       "    <tr>\n",
       "      <th>3</th>\n",
       "      <td>0</td>\n",
       "    </tr>\n",
       "    <tr>\n",
       "      <th>4</th>\n",
       "      <td>1</td>\n",
       "    </tr>\n",
       "  </tbody>\n",
       "</table>\n",
       "</div>"
      ],
      "text/plain": [
       "   order\n",
       "0      1\n",
       "1      1\n",
       "2      1\n",
       "3      0\n",
       "4      1"
      ]
     },
     "execution_count": 3,
     "metadata": {},
     "output_type": "execute_result"
    }
   ],
   "source": [
    "TRN_Y = pd.read_csv('TRN_Y.csv')\n",
    "TRN_Y.head()"
   ]
  },
  {
   "cell_type": "markdown",
   "metadata": {},
   "source": [
    "### Teste"
   ]
  },
  {
   "cell_type": "code",
   "execution_count": 4,
   "metadata": {},
   "outputs": [
    {
     "data": {
      "text/html": [
       "<div>\n",
       "<style scoped>\n",
       "    .dataframe tbody tr th:only-of-type {\n",
       "        vertical-align: middle;\n",
       "    }\n",
       "\n",
       "    .dataframe tbody tr th {\n",
       "        vertical-align: top;\n",
       "    }\n",
       "\n",
       "    .dataframe thead th {\n",
       "        text-align: right;\n",
       "    }\n",
       "</style>\n",
       "<table border=\"1\" class=\"dataframe\">\n",
       "  <thead>\n",
       "    <tr style=\"text-align: right;\">\n",
       "      <th></th>\n",
       "      <th>startHour</th>\n",
       "      <th>startWeekday</th>\n",
       "      <th>duration</th>\n",
       "      <th>cCount</th>\n",
       "      <th>cMinPrice</th>\n",
       "      <th>cMaxPrice</th>\n",
       "      <th>cSumPrice</th>\n",
       "      <th>bCount</th>\n",
       "      <th>bMinPrice</th>\n",
       "      <th>bMaxPrice</th>\n",
       "      <th>...</th>\n",
       "      <th>onlineStatus_ausente</th>\n",
       "      <th>onlineStatus_n</th>\n",
       "      <th>onlineStatus_y</th>\n",
       "      <th>availability_ausente</th>\n",
       "      <th>availability_completely not determinable</th>\n",
       "      <th>availability_completely not orderable</th>\n",
       "      <th>availability_completely orderable</th>\n",
       "      <th>availability_mainly not orderable</th>\n",
       "      <th>availability_mainly orderable</th>\n",
       "      <th>availability_mixed</th>\n",
       "    </tr>\n",
       "  </thead>\n",
       "  <tbody>\n",
       "    <tr>\n",
       "      <th>0</th>\n",
       "      <td>0.782609</td>\n",
       "      <td>1.0</td>\n",
       "      <td>0.028944</td>\n",
       "      <td>0.055</td>\n",
       "      <td>0.002832</td>\n",
       "      <td>0.005713</td>\n",
       "      <td>0.001796</td>\n",
       "      <td>0.046296</td>\n",
       "      <td>0.002427</td>\n",
       "      <td>0.005713</td>\n",
       "      <td>...</td>\n",
       "      <td>0.0</td>\n",
       "      <td>0.0</td>\n",
       "      <td>1.0</td>\n",
       "      <td>0.0</td>\n",
       "      <td>0.0</td>\n",
       "      <td>0.0</td>\n",
       "      <td>1.0</td>\n",
       "      <td>0.0</td>\n",
       "      <td>0.0</td>\n",
       "      <td>0.0</td>\n",
       "    </tr>\n",
       "    <tr>\n",
       "      <th>1</th>\n",
       "      <td>0.782609</td>\n",
       "      <td>1.0</td>\n",
       "      <td>0.129967</td>\n",
       "      <td>0.080</td>\n",
       "      <td>0.005832</td>\n",
       "      <td>0.004999</td>\n",
       "      <td>0.001512</td>\n",
       "      <td>0.018519</td>\n",
       "      <td>0.004999</td>\n",
       "      <td>0.004999</td>\n",
       "      <td>...</td>\n",
       "      <td>0.0</td>\n",
       "      <td>0.0</td>\n",
       "      <td>1.0</td>\n",
       "      <td>0.0</td>\n",
       "      <td>0.0</td>\n",
       "      <td>0.0</td>\n",
       "      <td>1.0</td>\n",
       "      <td>0.0</td>\n",
       "      <td>0.0</td>\n",
       "      <td>0.0</td>\n",
       "    </tr>\n",
       "    <tr>\n",
       "      <th>2</th>\n",
       "      <td>0.782609</td>\n",
       "      <td>1.0</td>\n",
       "      <td>0.342973</td>\n",
       "      <td>0.595</td>\n",
       "      <td>0.001332</td>\n",
       "      <td>0.008564</td>\n",
       "      <td>0.028197</td>\n",
       "      <td>0.111111</td>\n",
       "      <td>0.001784</td>\n",
       "      <td>0.005707</td>\n",
       "      <td>...</td>\n",
       "      <td>0.0</td>\n",
       "      <td>0.0</td>\n",
       "      <td>1.0</td>\n",
       "      <td>0.0</td>\n",
       "      <td>0.0</td>\n",
       "      <td>0.0</td>\n",
       "      <td>1.0</td>\n",
       "      <td>0.0</td>\n",
       "      <td>0.0</td>\n",
       "      <td>0.0</td>\n",
       "    </tr>\n",
       "    <tr>\n",
       "      <th>3</th>\n",
       "      <td>0.782609</td>\n",
       "      <td>1.0</td>\n",
       "      <td>0.132231</td>\n",
       "      <td>0.760</td>\n",
       "      <td>0.000665</td>\n",
       "      <td>0.034284</td>\n",
       "      <td>0.048751</td>\n",
       "      <td>0.037037</td>\n",
       "      <td>0.001427</td>\n",
       "      <td>0.002141</td>\n",
       "      <td>...</td>\n",
       "      <td>1.0</td>\n",
       "      <td>0.0</td>\n",
       "      <td>0.0</td>\n",
       "      <td>1.0</td>\n",
       "      <td>0.0</td>\n",
       "      <td>0.0</td>\n",
       "      <td>0.0</td>\n",
       "      <td>0.0</td>\n",
       "      <td>0.0</td>\n",
       "      <td>0.0</td>\n",
       "    </tr>\n",
       "    <tr>\n",
       "      <th>4</th>\n",
       "      <td>0.782609</td>\n",
       "      <td>1.0</td>\n",
       "      <td>0.002231</td>\n",
       "      <td>0.010</td>\n",
       "      <td>0.004998</td>\n",
       "      <td>0.004284</td>\n",
       "      <td>0.000518</td>\n",
       "      <td>0.009259</td>\n",
       "      <td>0.004284</td>\n",
       "      <td>0.004284</td>\n",
       "      <td>...</td>\n",
       "      <td>0.0</td>\n",
       "      <td>0.0</td>\n",
       "      <td>1.0</td>\n",
       "      <td>0.0</td>\n",
       "      <td>0.0</td>\n",
       "      <td>0.0</td>\n",
       "      <td>1.0</td>\n",
       "      <td>0.0</td>\n",
       "      <td>0.0</td>\n",
       "      <td>0.0</td>\n",
       "    </tr>\n",
       "  </tbody>\n",
       "</table>\n",
       "<p>5 rows × 32 columns</p>\n",
       "</div>"
      ],
      "text/plain": [
       "   startHour  startWeekday  duration  cCount  cMinPrice  cMaxPrice  cSumPrice  \\\n",
       "0   0.782609           1.0  0.028944   0.055   0.002832   0.005713   0.001796   \n",
       "1   0.782609           1.0  0.129967   0.080   0.005832   0.004999   0.001512   \n",
       "2   0.782609           1.0  0.342973   0.595   0.001332   0.008564   0.028197   \n",
       "3   0.782609           1.0  0.132231   0.760   0.000665   0.034284   0.048751   \n",
       "4   0.782609           1.0  0.002231   0.010   0.004998   0.004284   0.000518   \n",
       "\n",
       "     bCount  bMinPrice  bMaxPrice  ...  onlineStatus_ausente  onlineStatus_n  \\\n",
       "0  0.046296   0.002427   0.005713  ...                   0.0             0.0   \n",
       "1  0.018519   0.004999   0.004999  ...                   0.0             0.0   \n",
       "2  0.111111   0.001784   0.005707  ...                   0.0             0.0   \n",
       "3  0.037037   0.001427   0.002141  ...                   1.0             0.0   \n",
       "4  0.009259   0.004284   0.004284  ...                   0.0             0.0   \n",
       "\n",
       "   onlineStatus_y  availability_ausente  \\\n",
       "0             1.0                   0.0   \n",
       "1             1.0                   0.0   \n",
       "2             1.0                   0.0   \n",
       "3             0.0                   1.0   \n",
       "4             1.0                   0.0   \n",
       "\n",
       "   availability_completely not determinable  \\\n",
       "0                                       0.0   \n",
       "1                                       0.0   \n",
       "2                                       0.0   \n",
       "3                                       0.0   \n",
       "4                                       0.0   \n",
       "\n",
       "   availability_completely not orderable  availability_completely orderable  \\\n",
       "0                                    0.0                                1.0   \n",
       "1                                    0.0                                1.0   \n",
       "2                                    0.0                                1.0   \n",
       "3                                    0.0                                0.0   \n",
       "4                                    0.0                                1.0   \n",
       "\n",
       "   availability_mainly not orderable  availability_mainly orderable  \\\n",
       "0                                0.0                            0.0   \n",
       "1                                0.0                            0.0   \n",
       "2                                0.0                            0.0   \n",
       "3                                0.0                            0.0   \n",
       "4                                0.0                            0.0   \n",
       "\n",
       "   availability_mixed  \n",
       "0                 0.0  \n",
       "1                 0.0  \n",
       "2                 0.0  \n",
       "3                 0.0  \n",
       "4                 0.0  \n",
       "\n",
       "[5 rows x 32 columns]"
      ]
     },
     "execution_count": 4,
     "metadata": {},
     "output_type": "execute_result"
    }
   ],
   "source": [
    "TST_X = pd.read_csv('TST_X.csv')\n",
    "TST_X.head()"
   ]
  },
  {
   "cell_type": "code",
   "execution_count": 5,
   "metadata": {},
   "outputs": [
    {
     "data": {
      "text/html": [
       "<div>\n",
       "<style scoped>\n",
       "    .dataframe tbody tr th:only-of-type {\n",
       "        vertical-align: middle;\n",
       "    }\n",
       "\n",
       "    .dataframe tbody tr th {\n",
       "        vertical-align: top;\n",
       "    }\n",
       "\n",
       "    .dataframe thead th {\n",
       "        text-align: right;\n",
       "    }\n",
       "</style>\n",
       "<table border=\"1\" class=\"dataframe\">\n",
       "  <thead>\n",
       "    <tr style=\"text-align: right;\">\n",
       "      <th></th>\n",
       "      <th>prediction</th>\n",
       "    </tr>\n",
       "  </thead>\n",
       "  <tbody>\n",
       "    <tr>\n",
       "      <th>0</th>\n",
       "      <td>1</td>\n",
       "    </tr>\n",
       "    <tr>\n",
       "      <th>1</th>\n",
       "      <td>1</td>\n",
       "    </tr>\n",
       "    <tr>\n",
       "      <th>2</th>\n",
       "      <td>1</td>\n",
       "    </tr>\n",
       "    <tr>\n",
       "      <th>3</th>\n",
       "      <td>0</td>\n",
       "    </tr>\n",
       "    <tr>\n",
       "      <th>4</th>\n",
       "      <td>0</td>\n",
       "    </tr>\n",
       "  </tbody>\n",
       "</table>\n",
       "</div>"
      ],
      "text/plain": [
       "   prediction\n",
       "0           1\n",
       "1           1\n",
       "2           1\n",
       "3           0\n",
       "4           0"
      ]
     },
     "execution_count": 5,
     "metadata": {},
     "output_type": "execute_result"
    }
   ],
   "source": [
    "TST_Y = pd.read_csv('TST_Y.csv')\n",
    "TST_Y.head()"
   ]
  },
  {
   "cell_type": "markdown",
   "metadata": {},
   "source": [
    "## Classificador KNN"
   ]
  },
  {
   "cell_type": "markdown",
   "metadata": {},
   "source": [
    "K-Nearest Neighbor (KNN) é um classificador baseado em instâncias, ou seja, o modelo é representado pelos exemplos de treinamento (COVER; HART, 2006). O valor K representa a quantidade de exemplos semelhantes do conjunto de treinamento utilizado para classificação. Para mais detalhes, ver Capítulo 2."
   ]
  },
  {
   "cell_type": "code",
   "execution_count": 6,
   "metadata": {},
   "outputs": [
    {
     "data": {
      "text/plain": [
       "KNeighborsClassifier(algorithm='auto', leaf_size=30, metric='minkowski',\n",
       "                     metric_params=None, n_jobs=None, n_neighbors=1, p=2,\n",
       "                     weights='uniform')"
      ]
     },
     "execution_count": 6,
     "metadata": {},
     "output_type": "execute_result"
    }
   ],
   "source": [
    "knn = KNeighborsClassifier(n_neighbors=1)\n",
    "\n",
    "knn.fit(TRN_X, TRN_Y.order.to_numpy())\n",
    "\n",
    "#É importante notar que a variável alvo deve ser convertida para um numpy array -> TRN_Y.order.to_numpy()\n"
   ]
  },
  {
   "cell_type": "markdown",
   "metadata": {},
   "source": [
    "## Avaliando o classificador"
   ]
  },
  {
   "cell_type": "markdown",
   "metadata": {},
   "source": [
    "Conforme visto no Capítulo 4, avaliar o desempenho de um classificador com o mesmo conjunto utilizado na sua construção, não fornece uma boa estimativa de como será a sua predição em dados nunca antes vistos, pois a estimativa será otimista. Para este exemplo, estamos usando <b>Hold-out</b> como método de avaliação e as seguintes métricas de avaliação:\n",
    "\n",
    "- Matriz de Confusão\n",
    "- Acurácia\n",
    "- Precisão\n",
    "- Sensibilidade\n",
    "- Especificidade\n",
    "- Área sob a curva ROC"
   ]
  },
  {
   "cell_type": "code",
   "execution_count": 7,
   "metadata": {},
   "outputs": [],
   "source": [
    "# Recuperando a resposta do modelo para o conjunto de teste e armazenando no vetor pred\n",
    "pred = knn.predict(TST_X)"
   ]
  },
  {
   "cell_type": "code",
   "execution_count": 8,
   "metadata": {},
   "outputs": [
    {
     "data": {
      "text/html": [
       "<div>\n",
       "<style scoped>\n",
       "    .dataframe tbody tr th:only-of-type {\n",
       "        vertical-align: middle;\n",
       "    }\n",
       "\n",
       "    .dataframe tbody tr th {\n",
       "        vertical-align: top;\n",
       "    }\n",
       "\n",
       "    .dataframe thead th {\n",
       "        text-align: right;\n",
       "    }\n",
       "</style>\n",
       "<table border=\"1\" class=\"dataframe\">\n",
       "  <thead>\n",
       "    <tr style=\"text-align: right;\">\n",
       "      <th></th>\n",
       "      <th>1</th>\n",
       "      <th>0</th>\n",
       "    </tr>\n",
       "  </thead>\n",
       "  <tbody>\n",
       "    <tr>\n",
       "      <th>1</th>\n",
       "      <td>2166</td>\n",
       "      <td>159</td>\n",
       "    </tr>\n",
       "    <tr>\n",
       "      <th>0</th>\n",
       "      <td>202</td>\n",
       "      <td>2584</td>\n",
       "    </tr>\n",
       "  </tbody>\n",
       "</table>\n",
       "</div>"
      ],
      "text/plain": [
       "      1     0\n",
       "1  2166   159\n",
       "0   202  2584"
      ]
     },
     "execution_count": 8,
     "metadata": {},
     "output_type": "execute_result"
    }
   ],
   "source": [
    "# Gerando a Matriz de Confusão (linhas = real | colunas = previsto)\n",
    "cm = confusion_matrix(TST_Y.prediction.to_numpy(), pred)\n",
    "df_cm = pd.DataFrame(cm)\n",
    "# Mudandando a ordem para vir primeiro 1 e depois 0\n",
    "df_cm = df_cm[[1, 0]]\n",
    "df_cm = df_cm.sort_index(ascending=False)\n",
    "df_cm"
   ]
  },
  {
   "cell_type": "code",
   "execution_count": 9,
   "metadata": {},
   "outputs": [],
   "source": [
    "# Recuperando os valores da matriz de confusão\n",
    "\n",
    "# Verdadeiro positivo\n",
    "a = df_cm.iloc[0,0]\n",
    "\n",
    "# Falso positivo\n",
    "b = df_cm.iloc[1,0]\n",
    "\n",
    "# Falso negativo\n",
    "c = df_cm.iloc[0, 1]\n",
    "\n",
    "# Verdadeiro negativo\n",
    "d = df_cm.iloc[1, 1]\n"
   ]
  },
  {
   "cell_type": "code",
   "execution_count": 10,
   "metadata": {},
   "outputs": [
    {
     "data": {
      "text/plain": [
       "0.929368029739777"
      ]
     },
     "execution_count": 10,
     "metadata": {},
     "output_type": "execute_result"
    }
   ],
   "source": [
    "# calculando a acurácia do modelo\n",
    "(a + d) / (a + b + c + d)"
   ]
  },
  {
   "cell_type": "code",
   "execution_count": 11,
   "metadata": {},
   "outputs": [
    {
     "data": {
      "text/plain": [
       "0.9146959459459459"
      ]
     },
     "execution_count": 11,
     "metadata": {},
     "output_type": "execute_result"
    }
   ],
   "source": [
    "# calculando a precisão do modelo\n",
    "a  / (a + b)"
   ]
  },
  {
   "cell_type": "code",
   "execution_count": 12,
   "metadata": {},
   "outputs": [
    {
     "data": {
      "text/plain": [
       "0.9316129032258065"
      ]
     },
     "execution_count": 12,
     "metadata": {},
     "output_type": "execute_result"
    }
   ],
   "source": [
    "# calculando a sensibilidade do modelo\n",
    "a / (a + c)"
   ]
  },
  {
   "cell_type": "code",
   "execution_count": 13,
   "metadata": {},
   "outputs": [
    {
     "data": {
      "text/plain": [
       "0.927494615936827"
      ]
     },
     "execution_count": 13,
     "metadata": {},
     "output_type": "execute_result"
    }
   ],
   "source": [
    "# calculando a especificidade do modelo\n",
    "d / (b + d)"
   ]
  },
  {
   "cell_type": "code",
   "execution_count": 14,
   "metadata": {},
   "outputs": [
    {
     "data": {
      "text/plain": [
       "0.9295537595813168"
      ]
     },
     "execution_count": 14,
     "metadata": {},
     "output_type": "execute_result"
    }
   ],
   "source": [
    "# Calculando a área sob a curva ROC\n",
    "roc_auc = roc_auc_score(TST_Y.prediction.to_numpy(), pred)\n",
    "roc_auc"
   ]
  },
  {
   "cell_type": "code",
   "execution_count": 15,
   "metadata": {},
   "outputs": [
    {
     "data": {
      "image/png": "[encoded data removed]",
      "text/plain": [
       "<Figure size 432x288 with 1 Axes>"
      ]
     },
     "metadata": {
      "needs_background": "light"
     },
     "output_type": "display_data"
    }
   ],
   "source": [
    "# Gráfico da área sob a curva ROC\n",
    "\n",
    "fpr, tpr, _ = metrics.roc_curve(TST_Y.prediction.to_numpy(), pred)\n",
    "\n",
    "plt.title('Receiver Operating Characteristic')\n",
    "plt.plot(fpr, tpr, 'b', label = 'AUC = %0.3f' % roc_auc)\n",
    "plt.legend(loc = 'lower right')\n",
    "plt.plot([0, 1], [0, 1],'r--')\n",
    "plt.xlim([0, 1])\n",
    "plt.ylim([0, 1])\n",
    "plt.ylabel('True Positive Rate')\n",
    "plt.xlabel('False Positive Rate')\n",
    "plt.show()"
   ]
  }
 ],
 "metadata": {
  "kernelspec": {
   "display_name": "Python 3",
   "language": "python",
   "name": "python3"
  },
  "language_info": {
   "codemirror_mode": {
    "name": "ipython",
    "version": 3
   },
   "file_extension": ".py",
   "mimetype": "text/x-python",
   "name": "python",
   "nbconvert_exporter": "python",
   "pygments_lexer": "ipython3",
   "version": "3.7.6"
  }
 },
 "nbformat": 4,
 "nbformat_minor": 4
}
